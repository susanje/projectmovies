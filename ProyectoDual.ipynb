{
  "cells": [
    {
      "cell_type": "markdown",
      "metadata": {
        "colab_type": "text",
        "id": "view-in-github"
      },
      "source": [
        "<a href=\"https://colab.research.google.com/github/susanje/projectmovies/blob/main/ProyectoDual.ipynb\" target=\"_parent\"><img src=\"https://colab.research.google.com/assets/colab-badge.svg\" alt=\"Open In Colab\"/></a>"
      ]
    },
    {
      "cell_type": "code",
      "execution_count": 1,
      "metadata": {
        "id": "AZK9QTKRjlcd"
      },
      "outputs": [],
      "source": [
        "import requests\n",
        "from pprint import pprint\n",
        "import pandas as pd\n",
        "import numpy as np\n",
        "import seaborn as sns\n",
        "import matplotlib as mp\n",
        "import json"
      ]
    },
    {
      "cell_type": "code",
      "execution_count": 2,
      "metadata": {
        "colab": {
          "base_uri": "https://localhost:8080/"
        },
        "id": "VRmKmiIAitjY",
        "outputId": "514a922c-9ed7-4867-d794-29327ffcf71a"
      },
      "outputs": [
        {
          "data": {
            "text/plain": [
              "<Response [200]>"
            ]
          },
          "execution_count": 2,
          "metadata": {},
          "output_type": "execute_result"
        }
      ],
      "source": [
        "\n",
        "r= requests.get('https://yts.mx/api/v2/list_movies.json?limit=50')\n",
        "r"
      ]
    },
    {
      "cell_type": "code",
      "execution_count": 3,
      "metadata": {},
      "outputs": [],
      "source": [
        "json = r.json()\n",
        "df=pd.DataFrame(json['data']['movies'])"
      ]
    },
    {
      "cell_type": "code",
      "execution_count": 4,
      "metadata": {},
      "outputs": [],
      "source": [
        "\n",
        "for i in range(2, 800):\n",
        "    r= requests.get('https://yts.mx/api/v2/list_movies.json?limit=50&page='+str(i))\n",
        "    json = r.json()\n",
        "    df2=pd.DataFrame(json['data']['movies'])\n",
        "    df=pd.concat([df,df2])\n"
      ]
    },
    {
      "cell_type": "code",
      "execution_count": 5,
      "metadata": {},
      "outputs": [
        {
          "data": {
            "text/html": [
              "<div>\n",
              "<style scoped>\n",
              "    .dataframe tbody tr th:only-of-type {\n",
              "        vertical-align: middle;\n",
              "    }\n",
              "\n",
              "    .dataframe tbody tr th {\n",
              "        vertical-align: top;\n",
              "    }\n",
              "\n",
              "    .dataframe thead th {\n",
              "        text-align: right;\n",
              "    }\n",
              "</style>\n",
              "<table border=\"1\" class=\"dataframe\">\n",
              "  <thead>\n",
              "    <tr style=\"text-align: right;\">\n",
              "      <th></th>\n",
              "      <th>index</th>\n",
              "      <th>id</th>\n",
              "      <th>url</th>\n",
              "      <th>imdb_code</th>\n",
              "      <th>title</th>\n",
              "      <th>title_english</th>\n",
              "      <th>title_long</th>\n",
              "      <th>slug</th>\n",
              "      <th>year</th>\n",
              "      <th>rating</th>\n",
              "      <th>...</th>\n",
              "      <th>mpa_rating</th>\n",
              "      <th>background_image</th>\n",
              "      <th>background_image_original</th>\n",
              "      <th>small_cover_image</th>\n",
              "      <th>medium_cover_image</th>\n",
              "      <th>large_cover_image</th>\n",
              "      <th>state</th>\n",
              "      <th>torrents</th>\n",
              "      <th>date_uploaded</th>\n",
              "      <th>date_uploaded_unix</th>\n",
              "    </tr>\n",
              "  </thead>\n",
              "  <tbody>\n",
              "    <tr>\n",
              "      <th>39945</th>\n",
              "      <td>45</td>\n",
              "      <td>7382</td>\n",
              "      <td>https://yts.mx/movies/nocturnal-activity-2014</td>\n",
              "      <td>tt4187786</td>\n",
              "      <td>Nocturnal Activity</td>\n",
              "      <td>Nocturnal Activity</td>\n",
              "      <td>Nocturnal Activity (2014)</td>\n",
              "      <td>nocturnal-activity-2014</td>\n",
              "      <td>2014</td>\n",
              "      <td>2.2</td>\n",
              "      <td>...</td>\n",
              "      <td></td>\n",
              "      <td>https://yts.mx/assets/images/movies/nocturnal_...</td>\n",
              "      <td>https://yts.mx/assets/images/movies/nocturnal_...</td>\n",
              "      <td>https://yts.mx/assets/images/movies/nocturnal_...</td>\n",
              "      <td>https://yts.mx/assets/images/movies/nocturnal_...</td>\n",
              "      <td>https://yts.mx/assets/images/movies/nocturnal_...</td>\n",
              "      <td>ok</td>\n",
              "      <td>[{'url': 'https://yts.mx/torrent/download/3095...</td>\n",
              "      <td>2018-03-23 03:24:56</td>\n",
              "      <td>1.521772e+09</td>\n",
              "    </tr>\n",
              "    <tr>\n",
              "      <th>39946</th>\n",
              "      <td>46</td>\n",
              "      <td>7381</td>\n",
              "      <td>https://yts.mx/movies/black-marigolds-2013</td>\n",
              "      <td>tt2141623</td>\n",
              "      <td>Black Marigolds</td>\n",
              "      <td>Black Marigolds</td>\n",
              "      <td>Black Marigolds (2013)</td>\n",
              "      <td>black-marigolds-2013</td>\n",
              "      <td>2013</td>\n",
              "      <td>5.9</td>\n",
              "      <td>...</td>\n",
              "      <td></td>\n",
              "      <td>https://yts.mx/assets/images/movies/black_mari...</td>\n",
              "      <td>https://yts.mx/assets/images/movies/black_mari...</td>\n",
              "      <td>https://yts.mx/assets/images/movies/black_mari...</td>\n",
              "      <td>https://yts.mx/assets/images/movies/black_mari...</td>\n",
              "      <td>https://yts.mx/assets/images/movies/black_mari...</td>\n",
              "      <td>ok</td>\n",
              "      <td>[{'url': 'https://yts.mx/torrent/download/C64D...</td>\n",
              "      <td>2018-03-22 22:01:18</td>\n",
              "      <td>1.521752e+09</td>\n",
              "    </tr>\n",
              "    <tr>\n",
              "      <th>39947</th>\n",
              "      <td>47</td>\n",
              "      <td>7380</td>\n",
              "      <td>https://yts.mx/movies/ace-wonder-message-from-...</td>\n",
              "      <td>tt1669768</td>\n",
              "      <td>Ace Wonder: Message from a Dead Man</td>\n",
              "      <td>Ace Wonder: Message from a Dead Man</td>\n",
              "      <td>Ace Wonder: Message from a Dead Man (2014)</td>\n",
              "      <td>ace-wonder-message-from-a-dead-man-2014</td>\n",
              "      <td>2014</td>\n",
              "      <td>5.3</td>\n",
              "      <td>...</td>\n",
              "      <td>PG</td>\n",
              "      <td>https://yts.mx/assets/images/movies/ace_wonder...</td>\n",
              "      <td>https://yts.mx/assets/images/movies/ace_wonder...</td>\n",
              "      <td>https://yts.mx/assets/images/movies/ace_wonder...</td>\n",
              "      <td>https://yts.mx/assets/images/movies/ace_wonder...</td>\n",
              "      <td>https://yts.mx/assets/images/movies/ace_wonder...</td>\n",
              "      <td>ok</td>\n",
              "      <td>[{'url': 'https://yts.mx/torrent/download/2CEC...</td>\n",
              "      <td>2018-03-21 18:31:00</td>\n",
              "      <td>1.521653e+09</td>\n",
              "    </tr>\n",
              "    <tr>\n",
              "      <th>39948</th>\n",
              "      <td>48</td>\n",
              "      <td>7379</td>\n",
              "      <td>https://yts.mx/movies/father-figures-2017</td>\n",
              "      <td>tt1966359</td>\n",
              "      <td>Father Figures</td>\n",
              "      <td>Father Figures</td>\n",
              "      <td>Father Figures (2017)</td>\n",
              "      <td>father-figures-2017</td>\n",
              "      <td>2017</td>\n",
              "      <td>5.5</td>\n",
              "      <td>...</td>\n",
              "      <td>R</td>\n",
              "      <td>https://yts.mx/assets/images/movies/father_fig...</td>\n",
              "      <td>https://yts.mx/assets/images/movies/father_fig...</td>\n",
              "      <td>https://yts.mx/assets/images/movies/father_fig...</td>\n",
              "      <td>https://yts.mx/assets/images/movies/father_fig...</td>\n",
              "      <td>https://yts.mx/assets/images/movies/father_fig...</td>\n",
              "      <td>ok</td>\n",
              "      <td>[{'url': 'https://yts.mx/torrent/download/895F...</td>\n",
              "      <td>2018-03-21 15:44:02</td>\n",
              "      <td>1.521643e+09</td>\n",
              "    </tr>\n",
              "    <tr>\n",
              "      <th>39949</th>\n",
              "      <td>49</td>\n",
              "      <td>7378</td>\n",
              "      <td>https://yts.mx/movies/10x10-2018</td>\n",
              "      <td>tt6210996</td>\n",
              "      <td>10x10</td>\n",
              "      <td>10x10</td>\n",
              "      <td>10x10 (2018)</td>\n",
              "      <td>10x10-2018</td>\n",
              "      <td>2018</td>\n",
              "      <td>5.1</td>\n",
              "      <td>...</td>\n",
              "      <td></td>\n",
              "      <td>https://yts.mx/assets/images/movies/10x10_2018...</td>\n",
              "      <td>https://yts.mx/assets/images/movies/10x10_2018...</td>\n",
              "      <td>https://yts.mx/assets/images/movies/10x10_2018...</td>\n",
              "      <td>https://yts.mx/assets/images/movies/10x10_2018...</td>\n",
              "      <td>https://yts.mx/assets/images/movies/10x10_2018...</td>\n",
              "      <td>ok</td>\n",
              "      <td>[{'url': 'https://yts.mx/torrent/download/ADEC...</td>\n",
              "      <td>2018-03-21 13:22:50</td>\n",
              "      <td>1.521635e+09</td>\n",
              "    </tr>\n",
              "  </tbody>\n",
              "</table>\n",
              "<p>5 rows × 27 columns</p>\n",
              "</div>"
            ],
            "text/plain": [
              "       index    id                                                url  \\\n",
              "39945     45  7382      https://yts.mx/movies/nocturnal-activity-2014   \n",
              "39946     46  7381         https://yts.mx/movies/black-marigolds-2013   \n",
              "39947     47  7380  https://yts.mx/movies/ace-wonder-message-from-...   \n",
              "39948     48  7379          https://yts.mx/movies/father-figures-2017   \n",
              "39949     49  7378                   https://yts.mx/movies/10x10-2018   \n",
              "\n",
              "       imdb_code                                title  \\\n",
              "39945  tt4187786                   Nocturnal Activity   \n",
              "39946  tt2141623                      Black Marigolds   \n",
              "39947  tt1669768  Ace Wonder: Message from a Dead Man   \n",
              "39948  tt1966359                       Father Figures   \n",
              "39949  tt6210996                                10x10   \n",
              "\n",
              "                             title_english  \\\n",
              "39945                   Nocturnal Activity   \n",
              "39946                      Black Marigolds   \n",
              "39947  Ace Wonder: Message from a Dead Man   \n",
              "39948                       Father Figures   \n",
              "39949                                10x10   \n",
              "\n",
              "                                       title_long  \\\n",
              "39945                   Nocturnal Activity (2014)   \n",
              "39946                      Black Marigolds (2013)   \n",
              "39947  Ace Wonder: Message from a Dead Man (2014)   \n",
              "39948                       Father Figures (2017)   \n",
              "39949                                10x10 (2018)   \n",
              "\n",
              "                                          slug  year  rating  ...  mpa_rating  \\\n",
              "39945                  nocturnal-activity-2014  2014     2.2  ...               \n",
              "39946                     black-marigolds-2013  2013     5.9  ...               \n",
              "39947  ace-wonder-message-from-a-dead-man-2014  2014     5.3  ...          PG   \n",
              "39948                      father-figures-2017  2017     5.5  ...           R   \n",
              "39949                               10x10-2018  2018     5.1  ...               \n",
              "\n",
              "                                        background_image  \\\n",
              "39945  https://yts.mx/assets/images/movies/nocturnal_...   \n",
              "39946  https://yts.mx/assets/images/movies/black_mari...   \n",
              "39947  https://yts.mx/assets/images/movies/ace_wonder...   \n",
              "39948  https://yts.mx/assets/images/movies/father_fig...   \n",
              "39949  https://yts.mx/assets/images/movies/10x10_2018...   \n",
              "\n",
              "                               background_image_original  \\\n",
              "39945  https://yts.mx/assets/images/movies/nocturnal_...   \n",
              "39946  https://yts.mx/assets/images/movies/black_mari...   \n",
              "39947  https://yts.mx/assets/images/movies/ace_wonder...   \n",
              "39948  https://yts.mx/assets/images/movies/father_fig...   \n",
              "39949  https://yts.mx/assets/images/movies/10x10_2018...   \n",
              "\n",
              "                                       small_cover_image  \\\n",
              "39945  https://yts.mx/assets/images/movies/nocturnal_...   \n",
              "39946  https://yts.mx/assets/images/movies/black_mari...   \n",
              "39947  https://yts.mx/assets/images/movies/ace_wonder...   \n",
              "39948  https://yts.mx/assets/images/movies/father_fig...   \n",
              "39949  https://yts.mx/assets/images/movies/10x10_2018...   \n",
              "\n",
              "                                      medium_cover_image  \\\n",
              "39945  https://yts.mx/assets/images/movies/nocturnal_...   \n",
              "39946  https://yts.mx/assets/images/movies/black_mari...   \n",
              "39947  https://yts.mx/assets/images/movies/ace_wonder...   \n",
              "39948  https://yts.mx/assets/images/movies/father_fig...   \n",
              "39949  https://yts.mx/assets/images/movies/10x10_2018...   \n",
              "\n",
              "                                       large_cover_image state  \\\n",
              "39945  https://yts.mx/assets/images/movies/nocturnal_...    ok   \n",
              "39946  https://yts.mx/assets/images/movies/black_mari...    ok   \n",
              "39947  https://yts.mx/assets/images/movies/ace_wonder...    ok   \n",
              "39948  https://yts.mx/assets/images/movies/father_fig...    ok   \n",
              "39949  https://yts.mx/assets/images/movies/10x10_2018...    ok   \n",
              "\n",
              "                                                torrents        date_uploaded  \\\n",
              "39945  [{'url': 'https://yts.mx/torrent/download/3095...  2018-03-23 03:24:56   \n",
              "39946  [{'url': 'https://yts.mx/torrent/download/C64D...  2018-03-22 22:01:18   \n",
              "39947  [{'url': 'https://yts.mx/torrent/download/2CEC...  2018-03-21 18:31:00   \n",
              "39948  [{'url': 'https://yts.mx/torrent/download/895F...  2018-03-21 15:44:02   \n",
              "39949  [{'url': 'https://yts.mx/torrent/download/ADEC...  2018-03-21 13:22:50   \n",
              "\n",
              "      date_uploaded_unix  \n",
              "39945       1.521772e+09  \n",
              "39946       1.521752e+09  \n",
              "39947       1.521653e+09  \n",
              "39948       1.521643e+09  \n",
              "39949       1.521635e+09  \n",
              "\n",
              "[5 rows x 27 columns]"
            ]
          },
          "execution_count": 5,
          "metadata": {},
          "output_type": "execute_result"
        }
      ],
      "source": [
        "df.reset_index(inplace=True)\n",
        "df.tail(5)"
      ]
    },
    {
      "cell_type": "markdown",
      "metadata": {},
      "source": [
        "json2 = r2.json()\n",
        "df2=pd.DataFrame(json2['data']['movies'])\n",
        "df2.head(5)"
      ]
    },
    {
      "cell_type": "code",
      "execution_count": 10,
      "metadata": {},
      "outputs": [],
      "source": [
        "df.to_csv('movies', sep='|')"
      ]
    },
    {
      "cell_type": "code",
      "execution_count": 4,
      "metadata": {},
      "outputs": [],
      "source": [
        "movies=pd.read_csv('movies.csv', delimiter='|')"
      ]
    },
    {
      "cell_type": "code",
      "execution_count": 6,
      "metadata": {},
      "outputs": [
        {
          "data": {
            "text/plain": [
              "Index(['Unnamed: 0', 'index', 'id', 'url', 'imdb_code', 'title',\n",
              "       'title_english', 'title_long', 'slug', 'year', 'rating', 'runtime',\n",
              "       'genres', 'summary', 'description_full', 'synopsis', 'yt_trailer_code',\n",
              "       'language', 'mpa_rating', 'background_image',\n",
              "       'background_image_original', 'small_cover_image', 'medium_cover_image',\n",
              "       'large_cover_image', 'state', 'torrents', 'date_uploaded',\n",
              "       'date_uploaded_unix'],\n",
              "      dtype='object')"
            ]
          },
          "execution_count": 6,
          "metadata": {},
          "output_type": "execute_result"
        }
      ],
      "source": [
        "movies.columns"
      ]
    },
    {
      "cell_type": "code",
      "execution_count": 7,
      "metadata": {},
      "outputs": [
        {
          "data": {
            "text/html": [
              "<div>\n",
              "<style scoped>\n",
              "    .dataframe tbody tr th:only-of-type {\n",
              "        vertical-align: middle;\n",
              "    }\n",
              "\n",
              "    .dataframe tbody tr th {\n",
              "        vertical-align: top;\n",
              "    }\n",
              "\n",
              "    .dataframe thead th {\n",
              "        text-align: right;\n",
              "    }\n",
              "</style>\n",
              "<table border=\"1\" class=\"dataframe\">\n",
              "  <thead>\n",
              "    <tr style=\"text-align: right;\">\n",
              "      <th></th>\n",
              "      <th>Unnamed: 0</th>\n",
              "      <th>index</th>\n",
              "      <th>id</th>\n",
              "      <th>url</th>\n",
              "      <th>imdb_code</th>\n",
              "      <th>title</th>\n",
              "      <th>title_english</th>\n",
              "      <th>title_long</th>\n",
              "      <th>slug</th>\n",
              "      <th>year</th>\n",
              "      <th>...</th>\n",
              "      <th>mpa_rating</th>\n",
              "      <th>background_image</th>\n",
              "      <th>background_image_original</th>\n",
              "      <th>small_cover_image</th>\n",
              "      <th>medium_cover_image</th>\n",
              "      <th>large_cover_image</th>\n",
              "      <th>state</th>\n",
              "      <th>torrents</th>\n",
              "      <th>date_uploaded</th>\n",
              "      <th>date_uploaded_unix</th>\n",
              "    </tr>\n",
              "  </thead>\n",
              "  <tbody>\n",
              "    <tr>\n",
              "      <th>0</th>\n",
              "      <td>0</td>\n",
              "      <td>0</td>\n",
              "      <td>47762</td>\n",
              "      <td>https://yts.mx/movies/kamli-2022</td>\n",
              "      <td>tt19355940</td>\n",
              "      <td>Kamli</td>\n",
              "      <td>Kamli</td>\n",
              "      <td>Kamli (2022)</td>\n",
              "      <td>kamli-2022</td>\n",
              "      <td>2022</td>\n",
              "      <td>...</td>\n",
              "      <td>NaN</td>\n",
              "      <td>https://yts.mx/assets/images/movies/kamli_2022...</td>\n",
              "      <td>https://yts.mx/assets/images/movies/kamli_2022...</td>\n",
              "      <td>https://yts.mx/assets/images/movies/kamli_2022...</td>\n",
              "      <td>https://yts.mx/assets/images/movies/kamli_2022...</td>\n",
              "      <td>https://yts.mx/assets/images/movies/kamli_2022...</td>\n",
              "      <td>ok</td>\n",
              "      <td>[{'url': 'https://yts.mx/torrent/download/83D9...</td>\n",
              "      <td>2022-12-23 12:18:53</td>\n",
              "      <td>1.671794e+09</td>\n",
              "    </tr>\n",
              "  </tbody>\n",
              "</table>\n",
              "<p>1 rows × 28 columns</p>\n",
              "</div>"
            ],
            "text/plain": [
              "   Unnamed: 0  index     id                               url   imdb_code  \\\n",
              "0           0      0  47762  https://yts.mx/movies/kamli-2022  tt19355940   \n",
              "\n",
              "   title title_english    title_long        slug  year  ...  mpa_rating  \\\n",
              "0  Kamli         Kamli  Kamli (2022)  kamli-2022  2022  ...         NaN   \n",
              "\n",
              "                                    background_image  \\\n",
              "0  https://yts.mx/assets/images/movies/kamli_2022...   \n",
              "\n",
              "                           background_image_original  \\\n",
              "0  https://yts.mx/assets/images/movies/kamli_2022...   \n",
              "\n",
              "                                   small_cover_image  \\\n",
              "0  https://yts.mx/assets/images/movies/kamli_2022...   \n",
              "\n",
              "                                  medium_cover_image  \\\n",
              "0  https://yts.mx/assets/images/movies/kamli_2022...   \n",
              "\n",
              "                                   large_cover_image state  \\\n",
              "0  https://yts.mx/assets/images/movies/kamli_2022...    ok   \n",
              "\n",
              "                                            torrents        date_uploaded  \\\n",
              "0  [{'url': 'https://yts.mx/torrent/download/83D9...  2022-12-23 12:18:53   \n",
              "\n",
              "  date_uploaded_unix  \n",
              "0       1.671794e+09  \n",
              "\n",
              "[1 rows x 28 columns]"
            ]
          },
          "execution_count": 7,
          "metadata": {},
          "output_type": "execute_result"
        }
      ],
      "source": [
        "movies.head(1)"
      ]
    },
    {
      "cell_type": "code",
      "execution_count": 10,
      "metadata": {},
      "outputs": [],
      "source": [
        "pelis=movies[['title','year','rating','runtime','genres','description_full']]"
      ]
    },
    {
      "cell_type": "code",
      "execution_count": 15,
      "metadata": {},
      "outputs": [],
      "source": [
        "pelis.to_csv('pelis.csv', sep='|')"
      ]
    }
  ],
  "metadata": {
    "colab": {
      "authorship_tag": "ABX9TyNItJH/q+gsdTG8OgF6wPz9",
      "include_colab_link": true,
      "provenance": []
    },
    "kernelspec": {
      "display_name": "Python 3",
      "language": "python",
      "name": "python3"
    },
    "language_info": {
      "codemirror_mode": {
        "name": "ipython",
        "version": 3
      },
      "file_extension": ".py",
      "mimetype": "text/x-python",
      "name": "python",
      "nbconvert_exporter": "python",
      "pygments_lexer": "ipython3",
      "version": "3.10.4"
    },
    "vscode": {
      "interpreter": {
        "hash": "25b44c992b1e01d7e4dc1c981b1b5ddffc1887561503d7e16189083896ca18fc"
      }
    }
  },
  "nbformat": 4,
  "nbformat_minor": 0
}
